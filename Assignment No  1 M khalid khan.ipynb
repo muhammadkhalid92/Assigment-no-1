{
 "cells": [
  {
   "cell_type": "code",
   "execution_count": 2,
   "metadata": {},
   "outputs": [
    {
     "name": "stdout",
     "output_type": "stream",
     "text": [
      "Found directory: photos\n",
      "\t1.jpg\n",
      "Found directory: photos\n",
      "\t10.jpg\n",
      "Found directory: photos\n",
      "\t11.jpg\n",
      "Found directory: photos\n",
      "\t12.jpg\n",
      "Found directory: photos\n",
      "\t13.jpg\n",
      "Found directory: photos\n",
      "\t14.jpg\n",
      "Found directory: photos\n",
      "\t15.jpg\n",
      "Found directory: photos\n",
      "\t16.jpg\n",
      "Found directory: photos\n",
      "\t17.jpg\n",
      "Found directory: photos\n",
      "\t18.jpg\n",
      "Found directory: photos\n",
      "\t19.jpg\n",
      "Found directory: photos\n",
      "\t2.jpg\n",
      "Found directory: photos\n",
      "\t20.jpg\n",
      "Found directory: photos\n",
      "\t3.jpg\n",
      "Found directory: photos\n",
      "\t4.jpg\n",
      "Found directory: photos\n",
      "\t5.jpg\n",
      "Found directory: photos\n",
      "\t6.jpg\n",
      "Found directory: photos\n",
      "\t7.jpg\n",
      "Found directory: photos\n",
      "\t8.jpg\n",
      "Found directory: photos\n",
      "\t9.jpg\n",
      "Found directory: photos\n"
     ]
    }
   ],
   "source": [
    "import os\n",
    "import numpy as np\n",
    "import matplotlib,pylab as plt\n",
    "from PIL import Image\n",
    "\n",
    "rootpath = \"photos\"\n",
    "photos_arr = np.zeros([20,200,200,3])\n",
    "\n",
    "counter = 0\n",
    "\n",
    "for dirName, subdirList, fileList in os.walk(rootpath):\n",
    "    print('Found directory: %s' % dirName)\n",
    "    for fname in fileList:\n",
    "        print('\\t%s' % fname)\n",
    "        print('Found directory: %s' % dirName)\n",
    "        im = Image.open(rootpath +\"/\"+ fname)\n",
    "        im = im.resize((200,200,))\n",
    "        photos_arr[counter] = np.asarray(im, dtype = \"int32\")\n",
    "        counter = counter + 1\n"
   ]
  },
  {
   "cell_type": "code",
   "execution_count": null,
   "metadata": {},
   "outputs": [],
   "source": []
  }
 ],
 "metadata": {
  "kernelspec": {
   "display_name": "Python 3",
   "language": "python",
   "name": "python3"
  },
  "language_info": {
   "codemirror_mode": {
    "name": "ipython",
    "version": 3
   },
   "file_extension": ".py",
   "mimetype": "text/x-python",
   "name": "python",
   "nbconvert_exporter": "python",
   "pygments_lexer": "ipython3",
   "version": "3.7.3"
  }
 },
 "nbformat": 4,
 "nbformat_minor": 2
}
